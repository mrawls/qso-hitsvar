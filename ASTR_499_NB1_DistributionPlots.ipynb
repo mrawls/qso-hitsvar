{
 "cells": [
  {
   "cell_type": "markdown",
   "metadata": {},
   "source": [
    "# ASTR 499 - Notebook 1"
   ]
  },
  {
   "cell_type": "code",
   "execution_count": 37,
   "metadata": {},
   "outputs": [],
   "source": [
    "%matplotlib inline\n",
    "import os\n",
    "import sys\n",
    "import numpy as np\n",
    "import matplotlib.pyplot as plt\n",
    "import matplotlib.patches as mpatches\n",
    "from matplotlib.lines import Line2D\n",
    "from matplotlib import style\n",
    "style.use('seaborn-white')\n",
    "import pandas as pd\n",
    "from astropy.io import fits\n",
    "from astropy.coordinates import SkyCoord\n",
    "from astropy import units as u\n",
    "import tarfile\n",
    "import sqlite3\n",
    "import lsst.daf.persistence as dafPersist\n",
    "sys.path.append('/epyc/users/mrawls/premap2019/ap_pipe-notebooks/')\n",
    "from apdbPlots import makeSrcTableFlags"
   ]
  },
  {
   "cell_type": "markdown",
   "metadata": {},
   "source": [
    "## Listing Quasars"
   ]
  },
  {
   "cell_type": "markdown",
   "metadata": {},
   "source": [
    "##### HiTS DR1 Full Dataset"
   ]
  },
  {
   "cell_type": "code",
   "execution_count": 2,
   "metadata": {},
   "outputs": [
    {
     "data": {
      "text/html": [
       "<div>\n",
       "<style scoped>\n",
       "    .dataframe tbody tr th:only-of-type {\n",
       "        vertical-align: middle;\n",
       "    }\n",
       "\n",
       "    .dataframe tbody tr th {\n",
       "        vertical-align: top;\n",
       "    }\n",
       "\n",
       "    .dataframe thead th {\n",
       "        text-align: right;\n",
       "    }\n",
       "</style>\n",
       "<table border=\"1\" class=\"dataframe\">\n",
       "  <thead>\n",
       "    <tr style=\"text-align: right;\">\n",
       "      <th></th>\n",
       "      <th>ID</th>\n",
       "      <th>internalID</th>\n",
       "      <th>raMedian</th>\n",
       "      <th>decMedian</th>\n",
       "      <th>Variable_prob</th>\n",
       "      <th>Periodic_prob</th>\n",
       "      <th>DSCT_Prob</th>\n",
       "      <th>EB_Prob</th>\n",
       "      <th>ROTVAR_Prob</th>\n",
       "      <th>RRLYR_Prob</th>\n",
       "      <th>CV_Prob</th>\n",
       "      <th>QSO_Prob</th>\n",
       "      <th>SNe_Prob</th>\n",
       "      <th>Predicted_class</th>\n",
       "    </tr>\n",
       "  </thead>\n",
       "  <tbody>\n",
       "    <tr>\n",
       "      <th>0</th>\n",
       "      <td>HiTS090434-041626</td>\n",
       "      <td>Blind15A_02_S1_1856_0087</td>\n",
       "      <td>136.145756</td>\n",
       "      <td>-4.273908</td>\n",
       "      <td>0.000000</td>\n",
       "      <td>NaN</td>\n",
       "      <td>NaN</td>\n",
       "      <td>NaN</td>\n",
       "      <td>NaN</td>\n",
       "      <td>NaN</td>\n",
       "      <td>NaN</td>\n",
       "      <td>NaN</td>\n",
       "      <td>NaN</td>\n",
       "      <td>NV</td>\n",
       "    </tr>\n",
       "    <tr>\n",
       "      <th>1</th>\n",
       "      <td>HiTS090434-042338</td>\n",
       "      <td>Blind15A_02_N1_1253_0089</td>\n",
       "      <td>136.145561</td>\n",
       "      <td>-4.394096</td>\n",
       "      <td>0.000000</td>\n",
       "      <td>NaN</td>\n",
       "      <td>NaN</td>\n",
       "      <td>NaN</td>\n",
       "      <td>NaN</td>\n",
       "      <td>NaN</td>\n",
       "      <td>NaN</td>\n",
       "      <td>NaN</td>\n",
       "      <td>NaN</td>\n",
       "      <td>NV</td>\n",
       "    </tr>\n",
       "    <tr>\n",
       "      <th>2</th>\n",
       "      <td>HiTS090434-042506</td>\n",
       "      <td>Blind15A_02_N1_1587_0054</td>\n",
       "      <td>136.142838</td>\n",
       "      <td>-4.418445</td>\n",
       "      <td>0.000000</td>\n",
       "      <td>NaN</td>\n",
       "      <td>NaN</td>\n",
       "      <td>NaN</td>\n",
       "      <td>NaN</td>\n",
       "      <td>NaN</td>\n",
       "      <td>NaN</td>\n",
       "      <td>NaN</td>\n",
       "      <td>NaN</td>\n",
       "      <td>NV</td>\n",
       "    </tr>\n",
       "    <tr>\n",
       "      <th>3</th>\n",
       "      <td>HiTS090434-042629</td>\n",
       "      <td>Blind15A_02_N1_1903_0088</td>\n",
       "      <td>136.145272</td>\n",
       "      <td>-4.441517</td>\n",
       "      <td>0.000000</td>\n",
       "      <td>NaN</td>\n",
       "      <td>NaN</td>\n",
       "      <td>NaN</td>\n",
       "      <td>NaN</td>\n",
       "      <td>NaN</td>\n",
       "      <td>NaN</td>\n",
       "      <td>NaN</td>\n",
       "      <td>NaN</td>\n",
       "      <td>NV</td>\n",
       "    </tr>\n",
       "    <tr>\n",
       "      <th>4</th>\n",
       "      <td>HiTS090435-000829</td>\n",
       "      <td>Blind15A_04_S1_0030_0051</td>\n",
       "      <td>136.146090</td>\n",
       "      <td>-0.141399</td>\n",
       "      <td>0.033194</td>\n",
       "      <td>NaN</td>\n",
       "      <td>NaN</td>\n",
       "      <td>NaN</td>\n",
       "      <td>NaN</td>\n",
       "      <td>NaN</td>\n",
       "      <td>NaN</td>\n",
       "      <td>NaN</td>\n",
       "      <td>NaN</td>\n",
       "      <td>NV</td>\n",
       "    </tr>\n",
       "  </tbody>\n",
       "</table>\n",
       "</div>"
      ],
      "text/plain": [
       "                  ID                 internalID    raMedian  decMedian  \\\n",
       "0  HiTS090434-041626  Blind15A_02_S1_1856_0087   136.145756  -4.273908   \n",
       "1  HiTS090434-042338  Blind15A_02_N1_1253_0089   136.145561  -4.394096   \n",
       "2  HiTS090434-042506  Blind15A_02_N1_1587_0054   136.142838  -4.418445   \n",
       "3  HiTS090434-042629  Blind15A_02_N1_1903_0088   136.145272  -4.441517   \n",
       "4  HiTS090435-000829  Blind15A_04_S1_0030_0051   136.146090  -0.141399   \n",
       "\n",
       "   Variable_prob  Periodic_prob  DSCT_Prob  EB_Prob  ROTVAR_Prob  RRLYR_Prob  \\\n",
       "0       0.000000            NaN        NaN      NaN          NaN         NaN   \n",
       "1       0.000000            NaN        NaN      NaN          NaN         NaN   \n",
       "2       0.000000            NaN        NaN      NaN          NaN         NaN   \n",
       "3       0.000000            NaN        NaN      NaN          NaN         NaN   \n",
       "4       0.033194            NaN        NaN      NaN          NaN         NaN   \n",
       "\n",
       "   CV_Prob  QSO_Prob  SNe_Prob Predicted_class  \n",
       "0      NaN       NaN       NaN          NV      \n",
       "1      NaN       NaN       NaN          NV      \n",
       "2      NaN       NaN       NaN          NV      \n",
       "3      NaN       NaN       NaN          NV      \n",
       "4      NaN       NaN       NaN          NV      "
      ]
     },
     "execution_count": 2,
     "metadata": {},
     "output_type": "execute_result"
    }
   ],
   "source": [
    "hitsDataDir='/epyc/users/mrawls/premap2019/hits-dr1/classification'\n",
    "hitsFilename='HiTS_RF_predictions.fits'\n",
    "hitsFilepath=os.path.join(hitsDataDir,hitsFilename)\n",
    "hitsTable=fits.open(hitsFilepath) # load data as an astropy fits thing\n",
    "hitsDf=pd.DataFrame(hitsTable[1].data) # turn data into a pandas dataframe\n",
    "hitsDf.head() # shows us what the dataframe looks like"
   ]
  },
  {
   "cell_type": "markdown",
   "metadata": {},
   "source": [
    "##### HiTS DR1 Subset"
   ]
  },
  {
   "cell_type": "code",
   "execution_count": 3,
   "metadata": {},
   "outputs": [
    {
     "data": {
      "text/html": [
       "<div>\n",
       "<style scoped>\n",
       "    .dataframe tbody tr th:only-of-type {\n",
       "        vertical-align: middle;\n",
       "    }\n",
       "\n",
       "    .dataframe tbody tr th {\n",
       "        vertical-align: top;\n",
       "    }\n",
       "\n",
       "    .dataframe thead th {\n",
       "        text-align: right;\n",
       "    }\n",
       "</style>\n",
       "<table border=\"1\" class=\"dataframe\">\n",
       "  <thead>\n",
       "    <tr style=\"text-align: right;\">\n",
       "      <th></th>\n",
       "      <th>ID</th>\n",
       "      <th>internalID</th>\n",
       "      <th>raMedian</th>\n",
       "      <th>decMedian</th>\n",
       "      <th>Variable_prob</th>\n",
       "      <th>Periodic_prob</th>\n",
       "      <th>DSCT_Prob</th>\n",
       "      <th>EB_Prob</th>\n",
       "      <th>ROTVAR_Prob</th>\n",
       "      <th>RRLYR_Prob</th>\n",
       "      <th>...</th>\n",
       "      <th>Rcs</th>\n",
       "      <th>Skew</th>\n",
       "      <th>SlottedA_length</th>\n",
       "      <th>SmallKurtosis</th>\n",
       "      <th>Std</th>\n",
       "      <th>StetsonK</th>\n",
       "      <th>StetsonK_AC</th>\n",
       "      <th>g-i</th>\n",
       "      <th>g-r</th>\n",
       "      <th>r-i</th>\n",
       "    </tr>\n",
       "  </thead>\n",
       "  <tbody>\n",
       "    <tr>\n",
       "      <th>0</th>\n",
       "      <td>HiTS095611+020452</td>\n",
       "      <td>Blind15A_26_N1_1715_0146</td>\n",
       "      <td>149.048038</td>\n",
       "      <td>2.081381</td>\n",
       "      <td>0.523601</td>\n",
       "      <td>0.202651</td>\n",
       "      <td>NaN</td>\n",
       "      <td>NaN</td>\n",
       "      <td>NaN</td>\n",
       "      <td>NaN</td>\n",
       "      <td>...</td>\n",
       "      <td>0.246009</td>\n",
       "      <td>-0.584446</td>\n",
       "      <td>0.134705</td>\n",
       "      <td>2.100608</td>\n",
       "      <td>0.032812</td>\n",
       "      <td>0.773151</td>\n",
       "      <td>0.738233</td>\n",
       "      <td>2.859381</td>\n",
       "      <td>1.439736</td>\n",
       "      <td>1.419645</td>\n",
       "    </tr>\n",
       "    <tr>\n",
       "      <th>1</th>\n",
       "      <td>HiTS095645+021135</td>\n",
       "      <td>Blind15A_26_N1_0181_2093</td>\n",
       "      <td>149.190225</td>\n",
       "      <td>2.193068</td>\n",
       "      <td>0.564932</td>\n",
       "      <td>0.635018</td>\n",
       "      <td>0.400</td>\n",
       "      <td>0.100</td>\n",
       "      <td>0.375</td>\n",
       "      <td>0.125</td>\n",
       "      <td>...</td>\n",
       "      <td>0.119267</td>\n",
       "      <td>-0.133774</td>\n",
       "      <td>0.067353</td>\n",
       "      <td>-0.444997</td>\n",
       "      <td>0.123052</td>\n",
       "      <td>0.841553</td>\n",
       "      <td>0.815632</td>\n",
       "      <td>0.996040</td>\n",
       "      <td>0.769289</td>\n",
       "      <td>0.226751</td>\n",
       "    </tr>\n",
       "    <tr>\n",
       "      <th>2</th>\n",
       "      <td>HiTS095652+023537</td>\n",
       "      <td>Blind15A_26_S14_1446_0379</td>\n",
       "      <td>149.220445</td>\n",
       "      <td>2.593841</td>\n",
       "      <td>0.962477</td>\n",
       "      <td>0.635836</td>\n",
       "      <td>0.025</td>\n",
       "      <td>0.125</td>\n",
       "      <td>0.750</td>\n",
       "      <td>0.100</td>\n",
       "      <td>...</td>\n",
       "      <td>0.227995</td>\n",
       "      <td>-0.317121</td>\n",
       "      <td>0.269410</td>\n",
       "      <td>-0.008631</td>\n",
       "      <td>0.067782</td>\n",
       "      <td>0.849505</td>\n",
       "      <td>0.846981</td>\n",
       "      <td>1.911452</td>\n",
       "      <td>1.484048</td>\n",
       "      <td>0.427403</td>\n",
       "    </tr>\n",
       "    <tr>\n",
       "      <th>3</th>\n",
       "      <td>HiTS095702+023628</td>\n",
       "      <td>Blind15A_26_S14_1253_0945</td>\n",
       "      <td>149.261780</td>\n",
       "      <td>2.607883</td>\n",
       "      <td>0.532390</td>\n",
       "      <td>0.933333</td>\n",
       "      <td>0.550</td>\n",
       "      <td>0.225</td>\n",
       "      <td>0.050</td>\n",
       "      <td>0.175</td>\n",
       "      <td>...</td>\n",
       "      <td>0.179956</td>\n",
       "      <td>-0.288333</td>\n",
       "      <td>0.067353</td>\n",
       "      <td>-1.067079</td>\n",
       "      <td>0.181790</td>\n",
       "      <td>0.853063</td>\n",
       "      <td>0.754798</td>\n",
       "      <td>NaN</td>\n",
       "      <td>NaN</td>\n",
       "      <td>NaN</td>\n",
       "    </tr>\n",
       "    <tr>\n",
       "      <th>4</th>\n",
       "      <td>HiTS095726+015556</td>\n",
       "      <td>Blind15A_26_N8_1496_2317</td>\n",
       "      <td>149.361376</td>\n",
       "      <td>1.932343</td>\n",
       "      <td>0.972280</td>\n",
       "      <td>0.889344</td>\n",
       "      <td>0.050</td>\n",
       "      <td>0.175</td>\n",
       "      <td>0.625</td>\n",
       "      <td>0.150</td>\n",
       "      <td>...</td>\n",
       "      <td>0.269737</td>\n",
       "      <td>-0.035972</td>\n",
       "      <td>0.740878</td>\n",
       "      <td>-1.731678</td>\n",
       "      <td>0.089139</td>\n",
       "      <td>0.957841</td>\n",
       "      <td>0.948092</td>\n",
       "      <td>1.185192</td>\n",
       "      <td>0.894064</td>\n",
       "      <td>0.291128</td>\n",
       "    </tr>\n",
       "  </tbody>\n",
       "</table>\n",
       "<p>5 rows × 82 columns</p>\n",
       "</div>"
      ],
      "text/plain": [
       "                  ID                 internalID    raMedian  decMedian  \\\n",
       "0  HiTS095611+020452   Blind15A_26_N1_1715_0146  149.048038   2.081381   \n",
       "1  HiTS095645+021135   Blind15A_26_N1_0181_2093  149.190225   2.193068   \n",
       "2  HiTS095652+023537  Blind15A_26_S14_1446_0379  149.220445   2.593841   \n",
       "3  HiTS095702+023628  Blind15A_26_S14_1253_0945  149.261780   2.607883   \n",
       "4  HiTS095726+015556   Blind15A_26_N8_1496_2317  149.361376   1.932343   \n",
       "\n",
       "   Variable_prob  Periodic_prob  DSCT_Prob  EB_Prob  ROTVAR_Prob  RRLYR_Prob  \\\n",
       "0       0.523601       0.202651        NaN      NaN          NaN         NaN   \n",
       "1       0.564932       0.635018      0.400    0.100        0.375       0.125   \n",
       "2       0.962477       0.635836      0.025    0.125        0.750       0.100   \n",
       "3       0.532390       0.933333      0.550    0.225        0.050       0.175   \n",
       "4       0.972280       0.889344      0.050    0.175        0.625       0.150   \n",
       "\n",
       "   ...       Rcs      Skew  SlottedA_length SmallKurtosis       Std  StetsonK  \\\n",
       "0  ...  0.246009 -0.584446         0.134705      2.100608  0.032812  0.773151   \n",
       "1  ...  0.119267 -0.133774         0.067353     -0.444997  0.123052  0.841553   \n",
       "2  ...  0.227995 -0.317121         0.269410     -0.008631  0.067782  0.849505   \n",
       "3  ...  0.179956 -0.288333         0.067353     -1.067079  0.181790  0.853063   \n",
       "4  ...  0.269737 -0.035972         0.740878     -1.731678  0.089139  0.957841   \n",
       "\n",
       "   StetsonK_AC       g-i       g-r       r-i  \n",
       "0     0.738233  2.859381  1.439736  1.419645  \n",
       "1     0.815632  0.996040  0.769289  0.226751  \n",
       "2     0.846981  1.911452  1.484048  0.427403  \n",
       "3     0.754798       NaN       NaN       NaN  \n",
       "4     0.948092  1.185192  0.894064  0.291128  \n",
       "\n",
       "[5 rows x 82 columns]"
      ]
     },
     "execution_count": 3,
     "metadata": {},
     "output_type": "execute_result"
    }
   ],
   "source": [
    "hitsDataDir_sub='/epyc/users/mrawls/premap2019/hits-dr1'\n",
    "hitsFilename_sub='HiTS_DR1_variables_DM-dataset-subset.fits'\n",
    "hitsFilepath_sub=os.path.join(hitsDataDir_sub,hitsFilename_sub)\n",
    "hitsTable_sub=fits.open(hitsFilepath_sub) # load data as an astropy fits thing\n",
    "hitsDf_sub=pd.DataFrame(hitsTable_sub[1].data) # turn data into a pandas dataframe\n",
    "hitsDf_sub.head() # shows us what the dataframe looks like"
   ]
  },
  {
   "cell_type": "markdown",
   "metadata": {},
   "source": [
    "##### Number of QSO's for Various Probabilities for HiTS DR1 Full Dataset"
   ]
  },
  {
   "cell_type": "code",
   "execution_count": 4,
   "metadata": {},
   "outputs": [
    {
     "data": {
      "text/plain": [
       "2169"
      ]
     },
     "execution_count": 4,
     "metadata": {},
     "output_type": "execute_result"
    }
   ],
   "source": [
    "hitsDf.query('QSO_Prob > 0.0')['ID'].count()"
   ]
  },
  {
   "cell_type": "code",
   "execution_count": 5,
   "metadata": {},
   "outputs": [
    {
     "data": {
      "text/plain": [
       "1186"
      ]
     },
     "execution_count": 5,
     "metadata": {},
     "output_type": "execute_result"
    }
   ],
   "source": [
    "hitsDf.query('QSO_Prob > .70')['ID'].count()"
   ]
  },
  {
   "cell_type": "code",
   "execution_count": 6,
   "metadata": {},
   "outputs": [
    {
     "data": {
      "text/plain": [
       "630"
      ]
     },
     "execution_count": 6,
     "metadata": {},
     "output_type": "execute_result"
    }
   ],
   "source": [
    "hitsDf.query('QSO_Prob > .80')['ID'].count()"
   ]
  },
  {
   "cell_type": "code",
   "execution_count": 7,
   "metadata": {},
   "outputs": [
    {
     "data": {
      "text/plain": [
       "160"
      ]
     },
     "execution_count": 7,
     "metadata": {},
     "output_type": "execute_result"
    }
   ],
   "source": [
    "hitsDf.query('QSO_Prob > .90')['ID'].count()"
   ]
  },
  {
   "cell_type": "code",
   "execution_count": 8,
   "metadata": {},
   "outputs": [
    {
     "data": {
      "text/plain": [
       "57"
      ]
     },
     "execution_count": 8,
     "metadata": {},
     "output_type": "execute_result"
    }
   ],
   "source": [
    "hitsDf.query('QSO_Prob > .95')['ID'].count()"
   ]
  },
  {
   "cell_type": "code",
   "execution_count": 9,
   "metadata": {},
   "outputs": [
    {
     "data": {
      "text/plain": [
       "14"
      ]
     },
     "execution_count": 9,
     "metadata": {},
     "output_type": "execute_result"
    }
   ],
   "source": [
    "hitsDf.query('QSO_Prob > .99')['ID'].count()"
   ]
  },
  {
   "cell_type": "markdown",
   "metadata": {},
   "source": [
    "##### Numbers of QSO's for Various Probabilities for HiTS DR1 Subset"
   ]
  },
  {
   "cell_type": "code",
   "execution_count": 10,
   "metadata": {},
   "outputs": [
    {
     "data": {
      "text/plain": [
       "86"
      ]
     },
     "execution_count": 10,
     "metadata": {},
     "output_type": "execute_result"
    }
   ],
   "source": [
    "hitsDf_sub.query('QSO_Prob > .50')['ID'].count()"
   ]
  },
  {
   "cell_type": "code",
   "execution_count": 11,
   "metadata": {},
   "outputs": [
    {
     "data": {
      "text/plain": [
       "46"
      ]
     },
     "execution_count": 11,
     "metadata": {},
     "output_type": "execute_result"
    }
   ],
   "source": [
    "hitsDf_sub.query('QSO_Prob > .70')['ID'].count()"
   ]
  },
  {
   "cell_type": "code",
   "execution_count": 12,
   "metadata": {},
   "outputs": [
    {
     "data": {
      "text/plain": [
       "20"
      ]
     },
     "execution_count": 12,
     "metadata": {},
     "output_type": "execute_result"
    }
   ],
   "source": [
    "hitsDf_sub.query('QSO_Prob > .80')['ID'].count()"
   ]
  },
  {
   "cell_type": "code",
   "execution_count": 13,
   "metadata": {},
   "outputs": [
    {
     "data": {
      "text/plain": [
       "5"
      ]
     },
     "execution_count": 13,
     "metadata": {},
     "output_type": "execute_result"
    }
   ],
   "source": [
    "hitsDf_sub.query('QSO_Prob > .90')['ID'].count()"
   ]
  },
  {
   "cell_type": "code",
   "execution_count": 14,
   "metadata": {},
   "outputs": [
    {
     "data": {
      "text/plain": [
       "3"
      ]
     },
     "execution_count": 14,
     "metadata": {},
     "output_type": "execute_result"
    }
   ],
   "source": [
    "hitsDf_sub.query('QSO_Prob > .95')['ID'].count()"
   ]
  },
  {
   "cell_type": "code",
   "execution_count": 15,
   "metadata": {},
   "outputs": [
    {
     "data": {
      "text/plain": [
       "0"
      ]
     },
     "execution_count": 15,
     "metadata": {},
     "output_type": "execute_result"
    }
   ],
   "source": [
    "hitsDf_sub.query('QSO_Prob > .99')['ID'].count()"
   ]
  },
  {
   "cell_type": "markdown",
   "metadata": {},
   "source": [
    "### Makaing New QSO Data Frames"
   ]
  },
  {
   "cell_type": "markdown",
   "metadata": {},
   "source": [
    "##### HiTS DR1 Full Dataset"
   ]
  },
  {
   "cell_type": "code",
   "execution_count": 16,
   "metadata": {},
   "outputs": [
    {
     "data": {
      "text/plain": [
       "Index(['ID', 'internalID', 'raMedian', 'decMedian', 'Variable_prob',\n",
       "       'Periodic_prob', 'DSCT_Prob', 'EB_Prob', 'ROTVAR_Prob', 'RRLYR_Prob',\n",
       "       'CV_Prob', 'QSO_Prob', 'SNe_Prob', 'Predicted_class'],\n",
       "      dtype='object')"
      ]
     },
     "execution_count": 16,
     "metadata": {},
     "output_type": "execute_result"
    }
   ],
   "source": [
    "hitsDf.columns"
   ]
  },
  {
   "cell_type": "code",
   "execution_count": 17,
   "metadata": {},
   "outputs": [],
   "source": [
    "hitsDfQSO_filter = hitsDf[hitsDf['QSO_Prob'] > 0.80]"
   ]
  },
  {
   "cell_type": "code",
   "execution_count": 18,
   "metadata": {},
   "outputs": [],
   "source": [
    "hitsDfQSO = hitsDfQSO_filter.drop(['Variable_prob', 'Periodic_prob', 'DSCT_Prob', 'EB_Prob', 'Predicted_class',\n",
    "                                   'ROTVAR_Prob', 'RRLYR_Prob', 'CV_Prob', 'SNe_Prob'], axis = 1)"
   ]
  },
  {
   "cell_type": "code",
   "execution_count": 19,
   "metadata": {},
   "outputs": [
    {
     "data": {
      "text/html": [
       "<div>\n",
       "<style scoped>\n",
       "    .dataframe tbody tr th:only-of-type {\n",
       "        vertical-align: middle;\n",
       "    }\n",
       "\n",
       "    .dataframe tbody tr th {\n",
       "        vertical-align: top;\n",
       "    }\n",
       "\n",
       "    .dataframe thead th {\n",
       "        text-align: right;\n",
       "    }\n",
       "</style>\n",
       "<table border=\"1\" class=\"dataframe\">\n",
       "  <thead>\n",
       "    <tr style=\"text-align: right;\">\n",
       "      <th></th>\n",
       "      <th>ID</th>\n",
       "      <th>internalID</th>\n",
       "      <th>raMedian</th>\n",
       "      <th>decMedian</th>\n",
       "      <th>QSO_Prob</th>\n",
       "    </tr>\n",
       "  </thead>\n",
       "  <tbody>\n",
       "    <tr>\n",
       "      <th>2668</th>\n",
       "      <td>HiTS090524-041110</td>\n",
       "      <td>Blind15A_02_S1_0648_2891</td>\n",
       "      <td>136.350909</td>\n",
       "      <td>-4.186367</td>\n",
       "      <td>0.975</td>\n",
       "    </tr>\n",
       "    <tr>\n",
       "      <th>4891</th>\n",
       "      <td>HiTS090543-041323</td>\n",
       "      <td>Blind15A_02_S1_1148_3999</td>\n",
       "      <td>136.431651</td>\n",
       "      <td>-4.223211</td>\n",
       "      <td>0.825</td>\n",
       "    </tr>\n",
       "    <tr>\n",
       "      <th>7190</th>\n",
       "      <td>HiTS090602-040245</td>\n",
       "      <td>Blind15A_02_S8_0977_2949</td>\n",
       "      <td>136.510771</td>\n",
       "      <td>-4.045886</td>\n",
       "      <td>0.950</td>\n",
       "    </tr>\n",
       "    <tr>\n",
       "      <th>7548</th>\n",
       "      <td>HiTS090604-044418</td>\n",
       "      <td>Blind15A_02_N14_1454_3046</td>\n",
       "      <td>136.516803</td>\n",
       "      <td>-4.738595</td>\n",
       "      <td>0.900</td>\n",
       "    </tr>\n",
       "    <tr>\n",
       "      <th>8304</th>\n",
       "      <td>HiTS090610-000337</td>\n",
       "      <td>Blind15A_04_S8_1177_3373</td>\n",
       "      <td>136.543299</td>\n",
       "      <td>-0.060552</td>\n",
       "      <td>0.850</td>\n",
       "    </tr>\n",
       "  </tbody>\n",
       "</table>\n",
       "</div>"
      ],
      "text/plain": [
       "                     ID                 internalID    raMedian  decMedian  \\\n",
       "2668  HiTS090524-041110  Blind15A_02_S1_0648_2891   136.350909  -4.186367   \n",
       "4891  HiTS090543-041323  Blind15A_02_S1_1148_3999   136.431651  -4.223211   \n",
       "7190  HiTS090602-040245  Blind15A_02_S8_0977_2949   136.510771  -4.045886   \n",
       "7548  HiTS090604-044418  Blind15A_02_N14_1454_3046  136.516803  -4.738595   \n",
       "8304  HiTS090610-000337  Blind15A_04_S8_1177_3373   136.543299  -0.060552   \n",
       "\n",
       "      QSO_Prob  \n",
       "2668     0.975  \n",
       "4891     0.825  \n",
       "7190     0.950  \n",
       "7548     0.900  \n",
       "8304     0.850  "
      ]
     },
     "execution_count": 19,
     "metadata": {},
     "output_type": "execute_result"
    }
   ],
   "source": [
    "hitsDfQSO.head()"
   ]
  },
  {
   "cell_type": "markdown",
   "metadata": {},
   "source": [
    "##### HiTS DR1 Subset"
   ]
  },
  {
   "cell_type": "code",
   "execution_count": 20,
   "metadata": {},
   "outputs": [
    {
     "data": {
      "text/plain": [
       "Index(['ID', 'internalID', 'raMedian', 'decMedian', 'Variable_prob',\n",
       "       'Periodic_prob', 'DSCT_Prob', 'EB_Prob', 'ROTVAR_Prob', 'RRLYR_Prob',\n",
       "       'CV_Prob', 'QSO_Prob', 'SNe_Prob', 'Predicted_class', 'ID_feat',\n",
       "       'raMedian_feat', 'decMedian_feat', 'Amplitude', 'AndersonDarling',\n",
       "       'Autocor_length', 'Beyond1Std', 'CAR_mean', 'CAR_sigma', 'CAR_tau',\n",
       "       'Con', 'Eta_e', 'FluxPercentileRatioMid20', 'FluxPercentileRatioMid35',\n",
       "       'FluxPercentileRatioMid50', 'FluxPercentileRatioMid65',\n",
       "       'FluxPercentileRatioMid80', 'Freq1_harmonics_amplitude_0',\n",
       "       'Freq1_harmonics_amplitude_1', 'Freq1_harmonics_amplitude_2',\n",
       "       'Freq1_harmonics_amplitude_3', 'Freq1_harmonics_rel_phase_0',\n",
       "       'Freq1_harmonics_rel_phase_1', 'Freq1_harmonics_rel_phase_2',\n",
       "       'Freq1_harmonics_rel_phase_3', 'Freq2_harmonics_amplitude_0',\n",
       "       'Freq2_harmonics_amplitude_1', 'Freq2_harmonics_amplitude_2',\n",
       "       'Freq2_harmonics_amplitude_3', 'Freq2_harmonics_rel_phase_0',\n",
       "       'Freq2_harmonics_rel_phase_1', 'Freq2_harmonics_rel_phase_2',\n",
       "       'Freq2_harmonics_rel_phase_3', 'Freq3_harmonics_amplitude_0',\n",
       "       'Freq3_harmonics_amplitude_1', 'Freq3_harmonics_amplitude_2',\n",
       "       'Freq3_harmonics_amplitude_3', 'Freq3_harmonics_rel_phase_0',\n",
       "       'Freq3_harmonics_rel_phase_1', 'Freq3_harmonics_rel_phase_2',\n",
       "       'Freq3_harmonics_rel_phase_3', 'Gskew', 'LinearTrend', 'MaxSlope',\n",
       "       'Mean', 'Meanvariance', 'MedianAbsDev', 'MedianBRP', 'PairSlopeTrend',\n",
       "       'PercentAmplitude', 'PercentDifferenceFluxPercentile', 'PeriodGLS',\n",
       "       'PeriodLS', 'PeriodWMCC', 'Period_fit', 'Psi_CS', 'Psi_eta', 'Q31',\n",
       "       'Rcs', 'Skew', 'SlottedA_length', 'SmallKurtosis', 'Std', 'StetsonK',\n",
       "       'StetsonK_AC', 'g-i', 'g-r', 'r-i'],\n",
       "      dtype='object')"
      ]
     },
     "execution_count": 20,
     "metadata": {},
     "output_type": "execute_result"
    }
   ],
   "source": [
    "hitsDf_sub.columns"
   ]
  },
  {
   "cell_type": "code",
   "execution_count": 21,
   "metadata": {},
   "outputs": [],
   "source": [
    "hitsDfQSO_sub = hitsDf_sub[hitsDf_sub['QSO_Prob'] > 0.80]"
   ]
  },
  {
   "cell_type": "code",
   "execution_count": 22,
   "metadata": {},
   "outputs": [
    {
     "data": {
      "text/html": [
       "<div>\n",
       "<style scoped>\n",
       "    .dataframe tbody tr th:only-of-type {\n",
       "        vertical-align: middle;\n",
       "    }\n",
       "\n",
       "    .dataframe tbody tr th {\n",
       "        vertical-align: top;\n",
       "    }\n",
       "\n",
       "    .dataframe thead th {\n",
       "        text-align: right;\n",
       "    }\n",
       "</style>\n",
       "<table border=\"1\" class=\"dataframe\">\n",
       "  <thead>\n",
       "    <tr style=\"text-align: right;\">\n",
       "      <th></th>\n",
       "      <th>ID</th>\n",
       "      <th>internalID</th>\n",
       "      <th>raMedian</th>\n",
       "      <th>decMedian</th>\n",
       "      <th>Variable_prob</th>\n",
       "      <th>Periodic_prob</th>\n",
       "      <th>DSCT_Prob</th>\n",
       "      <th>EB_Prob</th>\n",
       "      <th>ROTVAR_Prob</th>\n",
       "      <th>RRLYR_Prob</th>\n",
       "      <th>...</th>\n",
       "      <th>Rcs</th>\n",
       "      <th>Skew</th>\n",
       "      <th>SlottedA_length</th>\n",
       "      <th>SmallKurtosis</th>\n",
       "      <th>Std</th>\n",
       "      <th>StetsonK</th>\n",
       "      <th>StetsonK_AC</th>\n",
       "      <th>g-i</th>\n",
       "      <th>g-r</th>\n",
       "      <th>r-i</th>\n",
       "    </tr>\n",
       "  </thead>\n",
       "  <tbody>\n",
       "    <tr>\n",
       "      <th>12</th>\n",
       "      <td>HiTS095824+013052</td>\n",
       "      <td>Blind15A_26_N25_0466_1383</td>\n",
       "      <td>149.604007</td>\n",
       "      <td>1.514554</td>\n",
       "      <td>0.722405</td>\n",
       "      <td>0.085199</td>\n",
       "      <td>NaN</td>\n",
       "      <td>NaN</td>\n",
       "      <td>NaN</td>\n",
       "      <td>NaN</td>\n",
       "      <td>...</td>\n",
       "      <td>0.289742</td>\n",
       "      <td>-0.061101</td>\n",
       "      <td>0.134705</td>\n",
       "      <td>-0.479007</td>\n",
       "      <td>0.052205</td>\n",
       "      <td>0.877099</td>\n",
       "      <td>0.724469</td>\n",
       "      <td>NaN</td>\n",
       "      <td>NaN</td>\n",
       "      <td>NaN</td>\n",
       "    </tr>\n",
       "    <tr>\n",
       "      <th>19</th>\n",
       "      <td>HiTS095906+023411</td>\n",
       "      <td>Blind15A_26_S15_1778_3732</td>\n",
       "      <td>149.775547</td>\n",
       "      <td>2.569846</td>\n",
       "      <td>0.700000</td>\n",
       "      <td>0.390697</td>\n",
       "      <td>NaN</td>\n",
       "      <td>NaN</td>\n",
       "      <td>NaN</td>\n",
       "      <td>NaN</td>\n",
       "      <td>...</td>\n",
       "      <td>0.420546</td>\n",
       "      <td>-0.594354</td>\n",
       "      <td>0.875583</td>\n",
       "      <td>-0.062144</td>\n",
       "      <td>0.024636</td>\n",
       "      <td>0.822118</td>\n",
       "      <td>0.880237</td>\n",
       "      <td>-1.334129</td>\n",
       "      <td>-1.042169</td>\n",
       "      <td>-0.291960</td>\n",
       "    </tr>\n",
       "    <tr>\n",
       "      <th>35</th>\n",
       "      <td>HiTS100126+012007</td>\n",
       "      <td>Blind15A_26_N31_0662_1083</td>\n",
       "      <td>150.358619</td>\n",
       "      <td>1.335401</td>\n",
       "      <td>0.520305</td>\n",
       "      <td>0.436615</td>\n",
       "      <td>NaN</td>\n",
       "      <td>NaN</td>\n",
       "      <td>NaN</td>\n",
       "      <td>NaN</td>\n",
       "      <td>...</td>\n",
       "      <td>0.285576</td>\n",
       "      <td>0.140620</td>\n",
       "      <td>0.202452</td>\n",
       "      <td>-1.167321</td>\n",
       "      <td>0.085182</td>\n",
       "      <td>0.859821</td>\n",
       "      <td>0.807446</td>\n",
       "      <td>1.105655</td>\n",
       "      <td>0.707078</td>\n",
       "      <td>0.398576</td>\n",
       "    </tr>\n",
       "    <tr>\n",
       "      <th>40</th>\n",
       "      <td>HiTS100158+015816</td>\n",
       "      <td>Blind15A_26_N12_0952_0771</td>\n",
       "      <td>150.492562</td>\n",
       "      <td>1.971313</td>\n",
       "      <td>0.700000</td>\n",
       "      <td>0.277657</td>\n",
       "      <td>NaN</td>\n",
       "      <td>NaN</td>\n",
       "      <td>NaN</td>\n",
       "      <td>NaN</td>\n",
       "      <td>...</td>\n",
       "      <td>0.362111</td>\n",
       "      <td>-0.584109</td>\n",
       "      <td>0.134705</td>\n",
       "      <td>-0.046382</td>\n",
       "      <td>0.035685</td>\n",
       "      <td>0.870675</td>\n",
       "      <td>0.803572</td>\n",
       "      <td>0.573734</td>\n",
       "      <td>0.385713</td>\n",
       "      <td>0.188021</td>\n",
       "    </tr>\n",
       "    <tr>\n",
       "      <th>42</th>\n",
       "      <td>HiTS100203+014206</td>\n",
       "      <td>Blind15A_26_N23_0131_3196</td>\n",
       "      <td>150.513886</td>\n",
       "      <td>1.701888</td>\n",
       "      <td>0.733057</td>\n",
       "      <td>0.104174</td>\n",
       "      <td>NaN</td>\n",
       "      <td>NaN</td>\n",
       "      <td>NaN</td>\n",
       "      <td>NaN</td>\n",
       "      <td>...</td>\n",
       "      <td>0.358926</td>\n",
       "      <td>-0.041477</td>\n",
       "      <td>0.269410</td>\n",
       "      <td>-0.949479</td>\n",
       "      <td>0.046000</td>\n",
       "      <td>0.853704</td>\n",
       "      <td>0.800476</td>\n",
       "      <td>0.438501</td>\n",
       "      <td>0.299798</td>\n",
       "      <td>0.138704</td>\n",
       "    </tr>\n",
       "    <tr>\n",
       "      <th>50</th>\n",
       "      <td>HiTS100312+023624</td>\n",
       "      <td>Blind15A_26_S19_1258_0720</td>\n",
       "      <td>150.800129</td>\n",
       "      <td>2.606857</td>\n",
       "      <td>0.732505</td>\n",
       "      <td>0.454927</td>\n",
       "      <td>NaN</td>\n",
       "      <td>NaN</td>\n",
       "      <td>NaN</td>\n",
       "      <td>NaN</td>\n",
       "      <td>...</td>\n",
       "      <td>0.327785</td>\n",
       "      <td>-0.021087</td>\n",
       "      <td>0.269410</td>\n",
       "      <td>-0.433423</td>\n",
       "      <td>0.020285</td>\n",
       "      <td>0.855364</td>\n",
       "      <td>0.816365</td>\n",
       "      <td>1.115453</td>\n",
       "      <td>0.727710</td>\n",
       "      <td>0.387744</td>\n",
       "    </tr>\n",
       "    <tr>\n",
       "      <th>58</th>\n",
       "      <td>HiTS101701-062013</td>\n",
       "      <td>Blind15A_40_S8_1964_0931</td>\n",
       "      <td>154.254351</td>\n",
       "      <td>-6.337102</td>\n",
       "      <td>0.800000</td>\n",
       "      <td>0.498545</td>\n",
       "      <td>NaN</td>\n",
       "      <td>NaN</td>\n",
       "      <td>NaN</td>\n",
       "      <td>NaN</td>\n",
       "      <td>...</td>\n",
       "      <td>0.329587</td>\n",
       "      <td>0.344962</td>\n",
       "      <td>0.874909</td>\n",
       "      <td>-0.687273</td>\n",
       "      <td>0.035174</td>\n",
       "      <td>0.892263</td>\n",
       "      <td>0.834892</td>\n",
       "      <td>0.826516</td>\n",
       "      <td>0.595061</td>\n",
       "      <td>0.231455</td>\n",
       "    </tr>\n",
       "    <tr>\n",
       "      <th>67</th>\n",
       "      <td>HiTS101816-065629</td>\n",
       "      <td>Blind15A_40_N15_1221_1004</td>\n",
       "      <td>154.570066</td>\n",
       "      <td>-6.941392</td>\n",
       "      <td>0.731082</td>\n",
       "      <td>0.134966</td>\n",
       "      <td>NaN</td>\n",
       "      <td>NaN</td>\n",
       "      <td>NaN</td>\n",
       "      <td>NaN</td>\n",
       "      <td>...</td>\n",
       "      <td>0.143827</td>\n",
       "      <td>0.372744</td>\n",
       "      <td>0.067301</td>\n",
       "      <td>-0.705263</td>\n",
       "      <td>0.051167</td>\n",
       "      <td>0.830279</td>\n",
       "      <td>0.779927</td>\n",
       "      <td>1.846743</td>\n",
       "      <td>1.286600</td>\n",
       "      <td>0.560143</td>\n",
       "    </tr>\n",
       "    <tr>\n",
       "      <th>78</th>\n",
       "      <td>HiTS101852-071519</td>\n",
       "      <td>Blind15A_40_N25_1016_3006</td>\n",
       "      <td>154.717640</td>\n",
       "      <td>-7.255553</td>\n",
       "      <td>0.566667</td>\n",
       "      <td>0.037777</td>\n",
       "      <td>NaN</td>\n",
       "      <td>NaN</td>\n",
       "      <td>NaN</td>\n",
       "      <td>NaN</td>\n",
       "      <td>...</td>\n",
       "      <td>0.360651</td>\n",
       "      <td>0.342250</td>\n",
       "      <td>0.134601</td>\n",
       "      <td>-0.201076</td>\n",
       "      <td>0.071784</td>\n",
       "      <td>0.783642</td>\n",
       "      <td>0.799310</td>\n",
       "      <td>0.238844</td>\n",
       "      <td>0.112538</td>\n",
       "      <td>0.126307</td>\n",
       "    </tr>\n",
       "    <tr>\n",
       "      <th>80</th>\n",
       "      <td>HiTS101903-042524</td>\n",
       "      <td>Blind15A_42_S20_1748_0924</td>\n",
       "      <td>154.763277</td>\n",
       "      <td>-4.423415</td>\n",
       "      <td>0.766527</td>\n",
       "      <td>0.369877</td>\n",
       "      <td>NaN</td>\n",
       "      <td>NaN</td>\n",
       "      <td>NaN</td>\n",
       "      <td>NaN</td>\n",
       "      <td>...</td>\n",
       "      <td>0.314573</td>\n",
       "      <td>-0.339547</td>\n",
       "      <td>0.134623</td>\n",
       "      <td>-0.279066</td>\n",
       "      <td>0.071465</td>\n",
       "      <td>0.840849</td>\n",
       "      <td>0.815278</td>\n",
       "      <td>NaN</td>\n",
       "      <td>1.175168</td>\n",
       "      <td>NaN</td>\n",
       "    </tr>\n",
       "    <tr>\n",
       "      <th>87</th>\n",
       "      <td>HiTS101923-064346</td>\n",
       "      <td>Blind15A_40_N10_0568_0521</td>\n",
       "      <td>154.848022</td>\n",
       "      <td>-6.729699</td>\n",
       "      <td>0.628839</td>\n",
       "      <td>0.070696</td>\n",
       "      <td>NaN</td>\n",
       "      <td>NaN</td>\n",
       "      <td>NaN</td>\n",
       "      <td>NaN</td>\n",
       "      <td>...</td>\n",
       "      <td>0.305913</td>\n",
       "      <td>0.498777</td>\n",
       "      <td>0.067301</td>\n",
       "      <td>-0.397169</td>\n",
       "      <td>0.045806</td>\n",
       "      <td>0.880105</td>\n",
       "      <td>0.788400</td>\n",
       "      <td>0.786931</td>\n",
       "      <td>0.475575</td>\n",
       "      <td>0.311356</td>\n",
       "    </tr>\n",
       "    <tr>\n",
       "      <th>100</th>\n",
       "      <td>HiTS102005-053744</td>\n",
       "      <td>Blind15A_42_N25_0240_2354</td>\n",
       "      <td>155.021648</td>\n",
       "      <td>-5.629068</td>\n",
       "      <td>0.897667</td>\n",
       "      <td>0.462920</td>\n",
       "      <td>NaN</td>\n",
       "      <td>NaN</td>\n",
       "      <td>NaN</td>\n",
       "      <td>NaN</td>\n",
       "      <td>...</td>\n",
       "      <td>0.211074</td>\n",
       "      <td>-0.158127</td>\n",
       "      <td>0.807737</td>\n",
       "      <td>-1.108336</td>\n",
       "      <td>0.042199</td>\n",
       "      <td>0.852287</td>\n",
       "      <td>0.792826</td>\n",
       "      <td>2.656856</td>\n",
       "      <td>1.340389</td>\n",
       "      <td>1.316467</td>\n",
       "    </tr>\n",
       "    <tr>\n",
       "      <th>107</th>\n",
       "      <td>HiTS102049-040346</td>\n",
       "      <td>Blind15A_42_S29_1303_2687</td>\n",
       "      <td>155.204439</td>\n",
       "      <td>-4.062887</td>\n",
       "      <td>0.598692</td>\n",
       "      <td>0.000219</td>\n",
       "      <td>NaN</td>\n",
       "      <td>NaN</td>\n",
       "      <td>NaN</td>\n",
       "      <td>NaN</td>\n",
       "      <td>...</td>\n",
       "      <td>0.366314</td>\n",
       "      <td>-0.959034</td>\n",
       "      <td>0.067311</td>\n",
       "      <td>1.086762</td>\n",
       "      <td>0.037348</td>\n",
       "      <td>0.702996</td>\n",
       "      <td>0.812839</td>\n",
       "      <td>0.286319</td>\n",
       "      <td>0.235974</td>\n",
       "      <td>0.050345</td>\n",
       "    </tr>\n",
       "    <tr>\n",
       "      <th>117</th>\n",
       "      <td>HiTS102109-054504</td>\n",
       "      <td>Blind15A_42_N26_1911_1742</td>\n",
       "      <td>155.288464</td>\n",
       "      <td>-5.751333</td>\n",
       "      <td>0.733230</td>\n",
       "      <td>0.249002</td>\n",
       "      <td>NaN</td>\n",
       "      <td>NaN</td>\n",
       "      <td>NaN</td>\n",
       "      <td>NaN</td>\n",
       "      <td>...</td>\n",
       "      <td>0.375250</td>\n",
       "      <td>-0.453437</td>\n",
       "      <td>1.076982</td>\n",
       "      <td>-0.626373</td>\n",
       "      <td>0.070718</td>\n",
       "      <td>0.848878</td>\n",
       "      <td>0.838277</td>\n",
       "      <td>1.307680</td>\n",
       "      <td>0.936315</td>\n",
       "      <td>0.371365</td>\n",
       "    </tr>\n",
       "    <tr>\n",
       "      <th>119</th>\n",
       "      <td>HiTS102124-044117</td>\n",
       "      <td>Blind15A_42_S10_0868_2568</td>\n",
       "      <td>155.350346</td>\n",
       "      <td>-4.688079</td>\n",
       "      <td>0.698240</td>\n",
       "      <td>0.269023</td>\n",
       "      <td>NaN</td>\n",
       "      <td>NaN</td>\n",
       "      <td>NaN</td>\n",
       "      <td>NaN</td>\n",
       "      <td>...</td>\n",
       "      <td>0.330044</td>\n",
       "      <td>0.910351</td>\n",
       "      <td>0.269246</td>\n",
       "      <td>0.001767</td>\n",
       "      <td>0.084842</td>\n",
       "      <td>0.867231</td>\n",
       "      <td>0.743520</td>\n",
       "      <td>0.512117</td>\n",
       "      <td>0.288491</td>\n",
       "      <td>0.223626</td>\n",
       "    </tr>\n",
       "    <tr>\n",
       "      <th>121</th>\n",
       "      <td>HiTS102128-064630</td>\n",
       "      <td>Blind15A_40_N11_1175_3317</td>\n",
       "      <td>155.367578</td>\n",
       "      <td>-6.775014</td>\n",
       "      <td>0.765481</td>\n",
       "      <td>0.407337</td>\n",
       "      <td>NaN</td>\n",
       "      <td>NaN</td>\n",
       "      <td>NaN</td>\n",
       "      <td>NaN</td>\n",
       "      <td>...</td>\n",
       "      <td>0.398964</td>\n",
       "      <td>0.623115</td>\n",
       "      <td>0.269203</td>\n",
       "      <td>-0.152664</td>\n",
       "      <td>0.023314</td>\n",
       "      <td>0.840538</td>\n",
       "      <td>0.818118</td>\n",
       "      <td>0.735066</td>\n",
       "      <td>0.553852</td>\n",
       "      <td>0.181214</td>\n",
       "    </tr>\n",
       "    <tr>\n",
       "      <th>122</th>\n",
       "      <td>HiTS102131-041059</td>\n",
       "      <td>Blind15A_42_S26_0704_2963</td>\n",
       "      <td>155.380215</td>\n",
       "      <td>-4.183142</td>\n",
       "      <td>0.598719</td>\n",
       "      <td>0.036893</td>\n",
       "      <td>NaN</td>\n",
       "      <td>NaN</td>\n",
       "      <td>NaN</td>\n",
       "      <td>NaN</td>\n",
       "      <td>...</td>\n",
       "      <td>0.249708</td>\n",
       "      <td>-0.077846</td>\n",
       "      <td>0.067311</td>\n",
       "      <td>-0.394758</td>\n",
       "      <td>0.041526</td>\n",
       "      <td>0.841876</td>\n",
       "      <td>0.646977</td>\n",
       "      <td>1.411940</td>\n",
       "      <td>1.067565</td>\n",
       "      <td>0.344376</td>\n",
       "    </tr>\n",
       "    <tr>\n",
       "      <th>123</th>\n",
       "      <td>HiTS102134-071459</td>\n",
       "      <td>Blind15A_40_N27_0929_3681</td>\n",
       "      <td>155.393733</td>\n",
       "      <td>-7.249999</td>\n",
       "      <td>0.832882</td>\n",
       "      <td>0.159520</td>\n",
       "      <td>NaN</td>\n",
       "      <td>NaN</td>\n",
       "      <td>NaN</td>\n",
       "      <td>NaN</td>\n",
       "      <td>...</td>\n",
       "      <td>0.299376</td>\n",
       "      <td>0.292716</td>\n",
       "      <td>0.067301</td>\n",
       "      <td>-0.923547</td>\n",
       "      <td>0.064193</td>\n",
       "      <td>0.873858</td>\n",
       "      <td>0.785818</td>\n",
       "      <td>0.225329</td>\n",
       "      <td>0.186488</td>\n",
       "      <td>0.038841</td>\n",
       "    </tr>\n",
       "    <tr>\n",
       "      <th>156</th>\n",
       "      <td>HiTS102358-051324</td>\n",
       "      <td>Blind15A_42_N12_1428_2835</td>\n",
       "      <td>155.994019</td>\n",
       "      <td>-5.223586</td>\n",
       "      <td>0.530996</td>\n",
       "      <td>0.113243</td>\n",
       "      <td>NaN</td>\n",
       "      <td>NaN</td>\n",
       "      <td>NaN</td>\n",
       "      <td>NaN</td>\n",
       "      <td>...</td>\n",
       "      <td>0.187939</td>\n",
       "      <td>0.106606</td>\n",
       "      <td>0.269246</td>\n",
       "      <td>-0.825938</td>\n",
       "      <td>0.058764</td>\n",
       "      <td>0.816442</td>\n",
       "      <td>0.864226</td>\n",
       "      <td>2.186796</td>\n",
       "      <td>1.240733</td>\n",
       "      <td>0.946064</td>\n",
       "    </tr>\n",
       "    <tr>\n",
       "      <th>157</th>\n",
       "      <td>HiTS102404-041807</td>\n",
       "      <td>Blind15A_42_S24_0075_1076</td>\n",
       "      <td>156.020636</td>\n",
       "      <td>-4.302175</td>\n",
       "      <td>0.709461</td>\n",
       "      <td>0.079288</td>\n",
       "      <td>NaN</td>\n",
       "      <td>NaN</td>\n",
       "      <td>NaN</td>\n",
       "      <td>NaN</td>\n",
       "      <td>...</td>\n",
       "      <td>0.182951</td>\n",
       "      <td>0.006291</td>\n",
       "      <td>0.067311</td>\n",
       "      <td>-0.489693</td>\n",
       "      <td>0.060015</td>\n",
       "      <td>0.709184</td>\n",
       "      <td>0.823580</td>\n",
       "      <td>0.787468</td>\n",
       "      <td>0.472328</td>\n",
       "      <td>0.315140</td>\n",
       "    </tr>\n",
       "  </tbody>\n",
       "</table>\n",
       "<p>20 rows × 82 columns</p>\n",
       "</div>"
      ],
      "text/plain": [
       "                    ID                 internalID    raMedian  decMedian  \\\n",
       "12   HiTS095824+013052  Blind15A_26_N25_0466_1383  149.604007   1.514554   \n",
       "19   HiTS095906+023411  Blind15A_26_S15_1778_3732  149.775547   2.569846   \n",
       "35   HiTS100126+012007  Blind15A_26_N31_0662_1083  150.358619   1.335401   \n",
       "40   HiTS100158+015816  Blind15A_26_N12_0952_0771  150.492562   1.971313   \n",
       "42   HiTS100203+014206  Blind15A_26_N23_0131_3196  150.513886   1.701888   \n",
       "50   HiTS100312+023624  Blind15A_26_S19_1258_0720  150.800129   2.606857   \n",
       "58   HiTS101701-062013   Blind15A_40_S8_1964_0931  154.254351  -6.337102   \n",
       "67   HiTS101816-065629  Blind15A_40_N15_1221_1004  154.570066  -6.941392   \n",
       "78   HiTS101852-071519  Blind15A_40_N25_1016_3006  154.717640  -7.255553   \n",
       "80   HiTS101903-042524  Blind15A_42_S20_1748_0924  154.763277  -4.423415   \n",
       "87   HiTS101923-064346  Blind15A_40_N10_0568_0521  154.848022  -6.729699   \n",
       "100  HiTS102005-053744  Blind15A_42_N25_0240_2354  155.021648  -5.629068   \n",
       "107  HiTS102049-040346  Blind15A_42_S29_1303_2687  155.204439  -4.062887   \n",
       "117  HiTS102109-054504  Blind15A_42_N26_1911_1742  155.288464  -5.751333   \n",
       "119  HiTS102124-044117  Blind15A_42_S10_0868_2568  155.350346  -4.688079   \n",
       "121  HiTS102128-064630  Blind15A_40_N11_1175_3317  155.367578  -6.775014   \n",
       "122  HiTS102131-041059  Blind15A_42_S26_0704_2963  155.380215  -4.183142   \n",
       "123  HiTS102134-071459  Blind15A_40_N27_0929_3681  155.393733  -7.249999   \n",
       "156  HiTS102358-051324  Blind15A_42_N12_1428_2835  155.994019  -5.223586   \n",
       "157  HiTS102404-041807  Blind15A_42_S24_0075_1076  156.020636  -4.302175   \n",
       "\n",
       "     Variable_prob  Periodic_prob  DSCT_Prob  EB_Prob  ROTVAR_Prob  \\\n",
       "12        0.722405       0.085199        NaN      NaN          NaN   \n",
       "19        0.700000       0.390697        NaN      NaN          NaN   \n",
       "35        0.520305       0.436615        NaN      NaN          NaN   \n",
       "40        0.700000       0.277657        NaN      NaN          NaN   \n",
       "42        0.733057       0.104174        NaN      NaN          NaN   \n",
       "50        0.732505       0.454927        NaN      NaN          NaN   \n",
       "58        0.800000       0.498545        NaN      NaN          NaN   \n",
       "67        0.731082       0.134966        NaN      NaN          NaN   \n",
       "78        0.566667       0.037777        NaN      NaN          NaN   \n",
       "80        0.766527       0.369877        NaN      NaN          NaN   \n",
       "87        0.628839       0.070696        NaN      NaN          NaN   \n",
       "100       0.897667       0.462920        NaN      NaN          NaN   \n",
       "107       0.598692       0.000219        NaN      NaN          NaN   \n",
       "117       0.733230       0.249002        NaN      NaN          NaN   \n",
       "119       0.698240       0.269023        NaN      NaN          NaN   \n",
       "121       0.765481       0.407337        NaN      NaN          NaN   \n",
       "122       0.598719       0.036893        NaN      NaN          NaN   \n",
       "123       0.832882       0.159520        NaN      NaN          NaN   \n",
       "156       0.530996       0.113243        NaN      NaN          NaN   \n",
       "157       0.709461       0.079288        NaN      NaN          NaN   \n",
       "\n",
       "     RRLYR_Prob  ...       Rcs      Skew  SlottedA_length SmallKurtosis  \\\n",
       "12          NaN  ...  0.289742 -0.061101         0.134705     -0.479007   \n",
       "19          NaN  ...  0.420546 -0.594354         0.875583     -0.062144   \n",
       "35          NaN  ...  0.285576  0.140620         0.202452     -1.167321   \n",
       "40          NaN  ...  0.362111 -0.584109         0.134705     -0.046382   \n",
       "42          NaN  ...  0.358926 -0.041477         0.269410     -0.949479   \n",
       "50          NaN  ...  0.327785 -0.021087         0.269410     -0.433423   \n",
       "58          NaN  ...  0.329587  0.344962         0.874909     -0.687273   \n",
       "67          NaN  ...  0.143827  0.372744         0.067301     -0.705263   \n",
       "78          NaN  ...  0.360651  0.342250         0.134601     -0.201076   \n",
       "80          NaN  ...  0.314573 -0.339547         0.134623     -0.279066   \n",
       "87          NaN  ...  0.305913  0.498777         0.067301     -0.397169   \n",
       "100         NaN  ...  0.211074 -0.158127         0.807737     -1.108336   \n",
       "107         NaN  ...  0.366314 -0.959034         0.067311      1.086762   \n",
       "117         NaN  ...  0.375250 -0.453437         1.076982     -0.626373   \n",
       "119         NaN  ...  0.330044  0.910351         0.269246      0.001767   \n",
       "121         NaN  ...  0.398964  0.623115         0.269203     -0.152664   \n",
       "122         NaN  ...  0.249708 -0.077846         0.067311     -0.394758   \n",
       "123         NaN  ...  0.299376  0.292716         0.067301     -0.923547   \n",
       "156         NaN  ...  0.187939  0.106606         0.269246     -0.825938   \n",
       "157         NaN  ...  0.182951  0.006291         0.067311     -0.489693   \n",
       "\n",
       "          Std  StetsonK  StetsonK_AC       g-i       g-r       r-i  \n",
       "12   0.052205  0.877099     0.724469       NaN       NaN       NaN  \n",
       "19   0.024636  0.822118     0.880237 -1.334129 -1.042169 -0.291960  \n",
       "35   0.085182  0.859821     0.807446  1.105655  0.707078  0.398576  \n",
       "40   0.035685  0.870675     0.803572  0.573734  0.385713  0.188021  \n",
       "42   0.046000  0.853704     0.800476  0.438501  0.299798  0.138704  \n",
       "50   0.020285  0.855364     0.816365  1.115453  0.727710  0.387744  \n",
       "58   0.035174  0.892263     0.834892  0.826516  0.595061  0.231455  \n",
       "67   0.051167  0.830279     0.779927  1.846743  1.286600  0.560143  \n",
       "78   0.071784  0.783642     0.799310  0.238844  0.112538  0.126307  \n",
       "80   0.071465  0.840849     0.815278       NaN  1.175168       NaN  \n",
       "87   0.045806  0.880105     0.788400  0.786931  0.475575  0.311356  \n",
       "100  0.042199  0.852287     0.792826  2.656856  1.340389  1.316467  \n",
       "107  0.037348  0.702996     0.812839  0.286319  0.235974  0.050345  \n",
       "117  0.070718  0.848878     0.838277  1.307680  0.936315  0.371365  \n",
       "119  0.084842  0.867231     0.743520  0.512117  0.288491  0.223626  \n",
       "121  0.023314  0.840538     0.818118  0.735066  0.553852  0.181214  \n",
       "122  0.041526  0.841876     0.646977  1.411940  1.067565  0.344376  \n",
       "123  0.064193  0.873858     0.785818  0.225329  0.186488  0.038841  \n",
       "156  0.058764  0.816442     0.864226  2.186796  1.240733  0.946064  \n",
       "157  0.060015  0.709184     0.823580  0.787468  0.472328  0.315140  \n",
       "\n",
       "[20 rows x 82 columns]"
      ]
     },
     "execution_count": 22,
     "metadata": {},
     "output_type": "execute_result"
    }
   ],
   "source": [
    "hitsDfQSO_sub"
   ]
  },
  {
   "cell_type": "markdown",
   "metadata": {},
   "source": [
    "### Makin' Some Plots"
   ]
  },
  {
   "cell_type": "markdown",
   "metadata": {},
   "source": [
    "##### Full Dataset"
   ]
  },
  {
   "cell_type": "code",
   "execution_count": 23,
   "metadata": {},
   "outputs": [],
   "source": [
    "hitsDf.head()\n",
    "#Variable = hitsDf.query('Variable_prob > .50')['ID'].count()\n",
    "Periodic = hitsDf.query('Periodic_prob > .50')['ID'].count()\n",
    "DSCT = hitsDf.query('DSCT_Prob > .50')['ID'].count()\n",
    "EB = hitsDf.query('EB_Prob > .50')['ID'].count()\n",
    "ROTVAR = hitsDf.query('ROTVAR_Prob > .50')['ID'].count()\n",
    "RRLYR = hitsDf.query('RRLYR_Prob > .50')['ID'].count()\n",
    "CV = hitsDf.query('CV_Prob > .50')['ID'].count()\n",
    "QSO = hitsDf.query('QSO_Prob > .50')['ID'].count()\n",
    "SNe = hitsDf.query('SNe_Prob > .50')['ID'].count()\n",
    "bar_array = (Periodic,DSCT,EB,ROTVAR,RRLYR,CV,QSO,SNe)\n",
    "objects = ('Periodic','DSCT','EB','ROTVAR','RRLYR','CV','QSO','SNe')\n",
    "y_pos = np.arange(len(objects))"
   ]
  },
  {
   "cell_type": "code",
   "execution_count": 38,
   "metadata": {},
   "outputs": [
    {
     "data": {
      "image/png": "[encoded data removed]",
      "text/plain": [
       "<Figure size 576x360 with 1 Axes>"
      ]
     },
     "metadata": {},
     "output_type": "display_data"
    }
   ],
   "source": [
    "plt.figure(figsize = (8,5))\n",
    "plt.bar(y_pos,bar_array, align = 'center', alpha = 0.7, color = 'k')\n",
    "plt.title(\"Distribution of Variable Sources in the HiTS DR1 Full Dataset\")\n",
    "plt.ylabel(\"Number of Sources\", fontsize = 14)\n",
    "plt.xlabel('Variable Source Type', fontsize = 14)\n",
    "plt.xticks(y_pos,objects);"
   ]
  },
  {
   "cell_type": "code",
   "execution_count": 25,
   "metadata": {},
   "outputs": [],
   "source": [
    "total_QSO = hitsDf['QSO_Prob'].count() # Can't use total sources here since there are 2.5 million so you cant see the QSO's.\n",
    "total_QSO50 = hitsDf.query('QSO_Prob > .50')['ID'].count()\n",
    "total_QSO60 = hitsDf.query('QSO_Prob > .60')['ID'].count()\n",
    "total_QSO70 = hitsDf.query('QSO_Prob > .70')['ID'].count()\n",
    "total_QSO80 = hitsDf.query('QSO_Prob > .80')['ID'].count()\n",
    "total_QSO90 = hitsDf.query('QSO_Prob > .90')['ID'].count()\n",
    "total_QSO95 = hitsDf.query('QSO_Prob > .95')['ID'].count()\n",
    "total_QSO99 = hitsDf.query('QSO_Prob > .99')['ID'].count()\n",
    "bar_array = (total_QSO,total_QSO50,total_QSO60,total_QSO70,total_QSO80,total_QSO90,total_QSO95,total_QSO99)\n",
    "objects = ('>0%','>50%','>60%','>70%','>80%','>90%','>95%','>99%')\n",
    "y_pos = np.arange(len(objects))"
   ]
  },
  {
   "cell_type": "code",
   "execution_count": 39,
   "metadata": {},
   "outputs": [
    {
     "data": {
      "image/png": "[encoded data removed]",
      "text/plain": [
       "<Figure size 576x360 with 1 Axes>"
      ]
     },
     "metadata": {},
     "output_type": "display_data"
    }
   ],
   "source": [
    "plt.figure(figsize = (8,5))\n",
    "plt.bar(y_pos,bar_array, align = 'center', alpha = 0.7, color = 'b')\n",
    "plt.title(\"Number of QSO's of Various Probability Classifications in HiTS DR1 Full Dataset\")\n",
    "plt.ylabel(\"QSO's\", fontsize = 14)\n",
    "plt.xlabel('Probability', fontsize = 14)\n",
    "plt.xticks(y_pos,objects);"
   ]
  },
  {
   "cell_type": "code",
   "execution_count": 40,
   "metadata": {},
   "outputs": [
    {
     "data": {
      "image/png": "[encoded data removed]",
      "text/plain": [
       "<Figure size 576x360 with 1 Axes>"
      ]
     },
     "metadata": {},
     "output_type": "display_data"
    }
   ],
   "source": [
    "plt.figure(figsize = (8,5))\n",
    "labels = '>50%', '>60%', '>70%', '>80%', '>90%', '>95%', '>99%'\n",
    "sizes = [84.55509451,73.25956662,54.67957584,29.045643153526,7.376671277,2.627939124,0.6454587367]\n",
    "#colors = \n",
    "patches, texts = plt.pie(sizes, shadow=True, startangle=90)\n",
    "plt.title(\"Probability Distribution of QSO's in the HiTS DR1 Full Dataset\", fontsize = 15)\n",
    "plt.legend(patches, labels, loc=\"best\",prop={'size': 15})\n",
    "plt.axis('equal')\n",
    "plt.tight_layout();"
   ]
  },
  {
   "cell_type": "markdown",
   "metadata": {},
   "source": [
    "##### Subset"
   ]
  },
  {
   "cell_type": "code",
   "execution_count": 28,
   "metadata": {},
   "outputs": [],
   "source": [
    "hitsDf_sub.head()\n",
    "#Variable = hitsDf_sub.query('Variable_prob > .50')['ID'].count()  Is this the total number?\n",
    "Periodic = hitsDf_sub.query('Periodic_prob > .50')['ID'].count()\n",
    "DSCT = hitsDf_sub.query('DSCT_Prob > .50')['ID'].count()\n",
    "EB = hitsDf_sub.query('EB_Prob > .50')['ID'].count()\n",
    "ROTVAR = hitsDf_sub.query('ROTVAR_Prob > .50')['ID'].count()\n",
    "RRLYR = hitsDf_sub.query('RRLYR_Prob > .50')['ID'].count()\n",
    "CV = hitsDf_sub.query('CV_Prob > .50')['ID'].count()\n",
    "QSO = hitsDf_sub.query('QSO_Prob > .50')['ID'].count()\n",
    "SNe = hitsDf_sub.query('SNe_Prob > .50')['ID'].count()\n",
    "bar_array = (Periodic,DSCT,EB,ROTVAR,RRLYR,CV,QSO,SNe)\n",
    "objects = ('Periodic','DSCT','EB','ROTVAR','RRLYR','CV','QSO','SNe')\n",
    "y_pos = np.arange(len(objects))"
   ]
  },
  {
   "cell_type": "code",
   "execution_count": 41,
   "metadata": {},
   "outputs": [
    {
     "data": {
      "image/png": "[encoded data removed]",
      "text/plain": [
       "<Figure size 576x360 with 1 Axes>"
      ]
     },
     "metadata": {},
     "output_type": "display_data"
    }
   ],
   "source": [
    "plt.figure(figsize = (8,5))\n",
    "plt.bar(y_pos,bar_array, align = 'center', alpha = 0.7, color = 'm')\n",
    "plt.title(\"Distribution of Variable Sources in the HiTS DR1 Subset\")\n",
    "plt.ylabel(\"Number of Sources\", fontsize = 14)\n",
    "plt.xlabel('Variable Source Type', fontsize = 14)\n",
    "plt.xticks(y_pos,objects);"
   ]
  },
  {
   "cell_type": "code",
   "execution_count": 30,
   "metadata": {},
   "outputs": [],
   "source": [
    "total_QSO_sub = hitsDf_sub['QSO_Prob'].count() # I can plot the total sources for this one but it looks weird. \n",
    "total_QSO50_sub = hitsDf_sub.query('QSO_Prob > .50')['ID'].count()\n",
    "total_QSO60_sub = hitsDf_sub.query('QSO_Prob > .60')['ID'].count()\n",
    "total_QSO70_sub = hitsDf_sub.query('QSO_Prob > .70')['ID'].count()\n",
    "total_QSO80_sub = hitsDf_sub.query('QSO_Prob > .80')['ID'].count()\n",
    "total_QSO90_sub = hitsDf_sub.query('QSO_Prob > .90')['ID'].count()\n",
    "total_QSO95_sub = hitsDf_sub.query('QSO_Prob > .95')['ID'].count()\n",
    "total_QSO99_sub = hitsDf_sub.query('QSO_Prob > .99')['ID'].count()\n",
    "bar_array_sub = (total_QSO_sub,total_QSO50_sub,total_QSO60_sub,total_QSO70_sub,\n",
    "             total_QSO80_sub,total_QSO90_sub,total_QSO95_sub,total_QSO99_sub)\n",
    "objects_sub = ('>0%','>50%','>60%','>70%','>80%','>90%','>95%','>99%')\n",
    "y_pos_sub = np.arange(len(objects_sub))"
   ]
  },
  {
   "cell_type": "code",
   "execution_count": 42,
   "metadata": {},
   "outputs": [
    {
     "data": {
      "image/png": "[encoded data removed]",
      "text/plain": [
       "<Figure size 576x360 with 1 Axes>"
      ]
     },
     "metadata": {},
     "output_type": "display_data"
    }
   ],
   "source": [
    "plt.figure(figsize = (8,5))\n",
    "plt.bar(y_pos_sub, bar_array_sub, align = 'center', alpha = 0.7, color = 'g')\n",
    "plt.title(\"Number of QSO's of Various Probability Classifications in HiTS DR1 Subset\")\n",
    "plt.ylabel(\"QSO's\", fontsize = 14)\n",
    "plt.xlabel('Probability', fontsize = 14)\n",
    "plt.xticks(y_pos_sub,objects_sub);"
   ]
  },
  {
   "cell_type": "code",
   "execution_count": 43,
   "metadata": {},
   "outputs": [
    {
     "data": {
      "image/png": "[encoded data removed]",
      "text/plain": [
       "<Figure size 576x360 with 1 Axes>"
      ]
     },
     "metadata": {},
     "output_type": "display_data"
    }
   ],
   "source": [
    "plt.figure(figsize = (8,5))\n",
    "labels = '>50%', '>60%', '>70%', '>80%', '>90%', '>95%'\n",
    "sizes = [52.12,39.39,27.877778,12.12,3.03,1.81]\n",
    "#colors = \n",
    "patches, texts = plt.pie(sizes, shadow=True, startangle=90)\n",
    "plt.title(\"Probability Distribution of QSO's in the HiTS DR1 Subset\", fontsize = 15)\n",
    "plt.legend(patches, labels, loc=\"best\",prop={'size': 15})\n",
    "plt.axis('equal')\n",
    "plt.tight_layout();"
   ]
  },
  {
   "cell_type": "markdown",
   "metadata": {},
   "source": [
    "It is sort of interesting to see the similarities in these plots. It seems as if the survey shows an relatively even distribution of objects, so it wont matter where you look, you should see approximately the same source distribution."
   ]
  }
 ],
 "metadata": {
  "kernelspec": {
   "display_name": "LSST Pre-MAP 2019",
   "language": "python",
   "name": "lsst-premap"
  },
  "language_info": {
   "codemirror_mode": {
    "name": "ipython",
    "version": 3
   },
   "file_extension": ".py",
   "mimetype": "text/x-python",
   "name": "python",
   "nbconvert_exporter": "python",
   "pygments_lexer": "ipython3",
   "version": "3.7.2"
  }
 },
 "nbformat": 4,
 "nbformat_minor": 2
}
